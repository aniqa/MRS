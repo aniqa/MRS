{
 "metadata": {
  "name": "get_the_gaba"
 },
 "nbformat": 3,
 "nbformat_minor": 0,
 "worksheets": [
  {
   "cells": [
    {
     "cell_type": "code",
     "collapsed": false,
     "input": [
      "import nitime.timeseries as nts \n",
      "import nitime.analysis as nta\n",
      "import nitime.viz as viz\n",
      "from MRS.analysis import coil_combine\n",
      "from MRS.utils import lowess"
     ],
     "language": "python",
     "metadata": {},
     "outputs": [],
     "prompt_number": 124
    },
    {
     "cell_type": "code",
     "collapsed": false,
     "input": [
      "data_files = ['mrs_P71680.7.npy', 'mrs_P76288.7.npy', 'pure_gaba_P64024.7.npy', 'P11111.7.npy']"
     ],
     "language": "python",
     "metadata": {},
     "outputs": [],
     "prompt_number": 125
    },
    {
     "cell_type": "code",
     "collapsed": false,
     "input": [
      "data = np.load(data_files[-1]).squeeze()\n",
      "w_data, w_supp_data = coil_combine(data)\n",
      "ts_w = nts.TimeSeries(w_data, sampling_rate=5000.)\n",
      "ts_nonw =nts.TimeSeries(w_supp_data, sampling_rate=5000.)\n",
      "S_w = nta.SpectralAnalyzer(ts_w, method=dict(NFFT=640), BW=10)\n",
      "S_nonw = nta.SpectralAnalyzer(ts_nonw, method=dict(NFFT=640), BW=10)"
     ],
     "language": "python",
     "metadata": {},
     "outputs": [],
     "prompt_number": 126
    },
    {
     "cell_type": "code",
     "collapsed": false,
     "input": [
      "f_w, c_w = S_w.spectrum_fourier\n",
      "f_nonw, c_nonw = S_nonw.spectrum_fourier"
     ],
     "language": "python",
     "metadata": {},
     "outputs": [],
     "prompt_number": 127
    },
    {
     "cell_type": "code",
     "collapsed": false,
     "input": [
      "w_sig = np.abs(np.mean(c_w, 1) )\n",
      "nonw_sig = np.abs(np.mean(c_nonw,1))"
     ],
     "language": "python",
     "metadata": {},
     "outputs": [],
     "prompt_number": 128
    },
    {
     "cell_type": "code",
     "collapsed": false,
     "input": [
      "scale_fac1 = w_sig[0][0]/nonw_sig[0][0]\n",
      "scale_fac2 = w_sig[1][0]/nonw_sig[1][0]\n",
      "scale_fac = np.mean([scale_fac1, scale_fac2])"
     ],
     "language": "python",
     "metadata": {},
     "outputs": [],
     "prompt_number": 129
    },
    {
     "cell_type": "code",
     "collapsed": false,
     "input": [
      "approx = w_sig/scale_fac\n",
      "corrected = nonw_sig - approx\n",
      "#corrected /= np.mean(corrected)\n",
      "#approx.shape, corrected.shape\n",
      "plot(approx[0][100:1000])\n",
      "plot(nonw_sig[0][100:1000])"
     ],
     "language": "python",
     "metadata": {},
     "outputs": [
      {
       "output_type": "pyout",
       "prompt_number": 131,
       "text": [
        "[<matplotlib.lines.Line2D at 0x11d926b90>]"
       ]
      },
      {
       "output_type": "display_data",
       "png": "[encoded data removed]",
       "text": [
        "<matplotlib.figure.Figure at 0x11d926690>"
       ]
      }
     ],
     "prompt_number": 131
    },
    {
     "cell_type": "code",
     "collapsed": false,
     "input": [
      "def gauss_window(x, A, B, C):\n",
      "    \"\"\" \n",
      "    A zero-centeed Gaussian window, with an amplitude (A), width (B) and offset (C)\n",
      "    \"\"\"\n",
      "    return A * np.exp(-(x**2)/(2*B**2)) + C\n",
      "\n",
      "def err_func(params, x, y, func):\n",
      "    if np.any(np.asarray(params)<0):\n",
      "        return np.inf\n",
      "    return y - func(x, *params) "
     ],
     "language": "python",
     "metadata": {},
     "outputs": [],
     "prompt_number": 37
    },
    {
     "cell_type": "code",
     "collapsed": false,
     "input": [
      "f_nonw, nonw_sig[0]"
     ],
     "language": "python",
     "metadata": {},
     "outputs": [
      {
       "output_type": "pyout",
       "prompt_number": 38,
       "text": [
        "(array([  0.00000000e+00,   1.22070312e+00,   2.44140625e+00, ...,\n",
        "         2.49755859e+03,   2.49877930e+03,   2.50000000e+03]),\n",
        " array([  9.14042246e+15,   1.52364644e+16,   1.43661900e+16, ...,\n",
        "         9.68245961e+12,   8.76071907e+12,   8.63470032e+12]))"
       ]
      }
     ],
     "prompt_number": 38
    },
    {
     "cell_type": "code",
     "collapsed": false,
     "input": [
      "import scipy.optimize as opt\n",
      "initial = np.real(nonw_sig[0][0]), 100, 0 \n",
      "p, _ = opt.leastsq(err_func, initial, args=(f_nonw, nonw_sig[0], gauss_window))\n",
      "\n",
      "fig, ax = plt.subplots(1)\n",
      "ax.plot(f_nonw, nonw_sig[0])\n",
      "ax.plot(gauss_window(f_nonw, *p))\n",
      "ax.set_xlim([-100, 2600])\n",
      "print p"
     ],
     "language": "python",
     "metadata": {},
     "outputs": [
      {
       "output_type": "stream",
       "stream": "stdout",
       "text": [
        "[  1.30000147e+16   4.00814256e+00   0.00000000e+00]\n"
       ]
      },
      {
       "output_type": "display_data",
       "png": "[encoded data removed]",
       "text": [
        "<matplotlib.figure.Figure at 0x1161e8150>"
       ]
      }
     ],
     "prompt_number": 39
    },
    {
     "cell_type": "code",
     "collapsed": false,
     "input": [
      "corrected = nonw_sig[0] - gauss_window(f_nonw, *p)\n",
      "corrected.shape"
     ],
     "language": "python",
     "metadata": {},
     "outputs": [
      {
       "output_type": "pyout",
       "prompt_number": 41,
       "text": [
        "(2049,)"
       ]
      }
     ],
     "prompt_number": 41
    },
    {
     "cell_type": "code",
     "collapsed": false,
     "input": [
      "smoothed = np.convolve(nonw_sig[0], gauss_window(np.linspace(-10,10,100), 1, 50,0))\n",
      "#plot(smoothed[51:-50])\n",
      "corrected = nonw_sig[0] - smoothed[:-99]\n",
      "plot(corrected)"
     ],
     "language": "python",
     "metadata": {},
     "outputs": [
      {
       "output_type": "pyout",
       "prompt_number": 82,
       "text": [
        "[<matplotlib.lines.Line2D at 0x116f2b390>]"
       ]
      },
      {
       "output_type": "display_data",
       "png": "[encoded data removed]",
       "text": [
        "<matplotlib.figure.Figure at 0x11747d1d0>"
       ]
      }
     ],
     "prompt_number": 82
    },
    {
     "cell_type": "code",
     "collapsed": false,
     "input": [
      "ff = open('P11111.7_combine_pro_echo2.sdf', 'rb')"
     ],
     "language": "python",
     "metadata": {},
     "outputs": [],
     "prompt_number": 132
    },
    {
     "cell_type": "code",
     "collapsed": false,
     "input": [
      "import array\n",
      "cdiff = array.array('f')\n",
      "cdiff.fromfile(ff, 1068)"
     ],
     "language": "python",
     "metadata": {},
     "outputs": [],
     "prompt_number": 133
    },
    {
     "cell_type": "code",
     "collapsed": false,
     "input": [
      "corrected.shape"
     ],
     "language": "python",
     "metadata": {},
     "outputs": [
      {
       "output_type": "pyout",
       "prompt_number": 136,
       "text": [
        "(2, 2049)"
       ]
      }
     ],
     "prompt_number": 136
    },
    {
     "cell_type": "code",
     "collapsed": false,
     "input": [
      "plot(cdiff[::2]/np.max(cdiff[::2]))\n",
      "# This correction is based on the assumption that for NAA, the resonance frequency is approximately 330 MHz and the \n",
      "# value in ppm is 2.0. That means that to convert we should subtract 76 and divide by the normalizing factor (which is the\n",
      "# Larmor frequency of water\n",
      "#plot(((f_nonw[50:584]-76)/128)[::-1], (corrected[1][50:584]))\n",
      "plot(np.real(corrected[1][50:584])/np.max(np.real(corrected[1][50:584])))\n"
     ],
     "language": "python",
     "metadata": {},
     "outputs": [
      {
       "output_type": "pyout",
       "prompt_number": 137,
       "text": [
        "[<matplotlib.lines.Line2D at 0x11da91790>]"
       ]
      },
      {
       "output_type": "display_data",
       "png": "[encoded data removed]",
       "text": [
        "<matplotlib.figure.Figure at 0x11da91710>"
       ]
      }
     ],
     "prompt_number": 137
    },
    {
     "cell_type": "code",
     "collapsed": false,
     "input": [
      "np.fliplr?"
     ],
     "language": "python",
     "metadata": {},
     "outputs": [],
     "prompt_number": 236
    },
    {
     "cell_type": "code",
     "collapsed": false,
     "input": [
      "len(corrected[1][50:584])"
     ],
     "language": "python",
     "metadata": {},
     "outputs": [
      {
       "output_type": "pyout",
       "prompt_number": 231,
       "text": [
        "534"
       ]
      }
     ],
     "prompt_number": 231
    },
    {
     "cell_type": "code",
     "collapsed": false,
     "input": [
      "len(cdiff[::2])"
     ],
     "language": "python",
     "metadata": {},
     "outputs": [
      {
       "output_type": "pyout",
       "prompt_number": 232,
       "text": [
        "534"
       ]
      }
     ],
     "prompt_number": 232
    },
    {
     "cell_type": "code",
     "collapsed": false,
     "input": [
      "F = nta.FilterAnalyzer(nts.TimeSeries(nonw_sig, sampling_rate=5000.), lb=1.2207, filt_order=32)"
     ],
     "language": "python",
     "metadata": {},
     "outputs": [],
     "prompt_number": 195
    },
    {
     "cell_type": "code",
     "collapsed": false,
     "input": [
      "plot(F.filtered_fourier.data[1][50:500])"
     ],
     "language": "python",
     "metadata": {},
     "outputs": [
      {
       "output_type": "pyout",
       "prompt_number": 196,
       "text": [
        "[<matplotlib.lines.Line2D at 0x115639950>]"
       ]
      },
      {
       "output_type": "display_data",
       "png": "[encoded data removed]",
       "text": [
        "<matplotlib.figure.Figure at 0x11533b150>"
       ]
      }
     ],
     "prompt_number": 196
    },
    {
     "cell_type": "code",
     "collapsed": false,
     "input": [],
     "language": "python",
     "metadata": {},
     "outputs": [],
     "prompt_number": 105
    },
    {
     "cell_type": "code",
     "collapsed": false,
     "input": [
      "534 * 2"
     ],
     "language": "python",
     "metadata": {},
     "outputs": [
      {
       "output_type": "pyout",
       "prompt_number": 216,
       "text": [
        "1068"
       ]
      }
     ],
     "prompt_number": 216
    },
    {
     "cell_type": "code",
     "collapsed": false,
     "input": [],
     "language": "python",
     "metadata": {},
     "outputs": []
    }
   ],
   "metadata": {}
  }
 ]
}