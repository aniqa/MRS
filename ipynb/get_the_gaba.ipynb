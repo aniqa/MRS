{
 "metadata": {
  "name": "get_the_gaba"
 },
 "nbformat": 3,
 "nbformat_minor": 0,
 "worksheets": [
  {
   "cells": [
    {
     "cell_type": "code",
     "collapsed": false,
     "input": [
      "import nitime.timeseries as nts \n",
      "import nitime.analysis as nta\n",
      "from MRS.analysis import coil_combine"
     ],
     "language": "python",
     "metadata": {},
     "outputs": [],
     "prompt_number": 1
    },
    {
     "cell_type": "code",
     "collapsed": false,
     "input": [
      "data_files = ['mrs_P71680.7.npy', 'mrs_P76288.7.npy', 'pure_gaba_P64024.7.npy', 'P11111.7.npy']"
     ],
     "language": "python",
     "metadata": {},
     "outputs": [],
     "prompt_number": 2
    },
    {
     "cell_type": "code",
     "collapsed": false,
     "input": [
      "data = np.load(data_files[-1]).squeeze()\n",
      "w_data, w_supp_data = coil_combine(data)\n",
      "ts_w = nts.TimeSeries(w_data, sampling_rate=5000.)\n",
      "ts_nonw =nts.TimeSeries(w_supp_data, sampling_rate=5000.)\n",
      "S_w = nta.SpectralAnalyzer(ts_w, method=dict(NFFT=640))\n",
      "S_nonw = nta.SpectralAnalyzer(ts_nonw, method=dict(NFFT=640))"
     ],
     "language": "python",
     "metadata": {},
     "outputs": [],
     "prompt_number": 3
    },
    {
     "cell_type": "code",
     "collapsed": false,
     "input": [
      "f_w, c_w = S_w.spectrum_multi_taper\n",
      "f_nonw, c_nonw = S_nonw.spectrum_multi_taper"
     ],
     "language": "python",
     "metadata": {},
     "outputs": [],
     "prompt_number": 4
    },
    {
     "cell_type": "code",
     "collapsed": false,
     "input": [
      "w_sig = np.mean(c_w, 1) \n",
      "nonw_sig = np.mean(c_nonw,1)"
     ],
     "language": "python",
     "metadata": {},
     "outputs": [],
     "prompt_number": 5
    },
    {
     "cell_type": "code",
     "collapsed": false,
     "input": [
      "scale_fac1 = w_sig[0][0]/nonw_sig[0][0]\n",
      "scale_fac2 = w_sig[1][0]/nonw_sig[1][0]\n",
      "scale_fac = np.mean([scale_fac1, scale_fac2])"
     ],
     "language": "python",
     "metadata": {},
     "outputs": [],
     "prompt_number": 6
    },
    {
     "cell_type": "code",
     "collapsed": false,
     "input": [
      "approx = np.abs(w_sig)/scale_fac\n",
      "corrected = np.abs(nonw_sig) - approx\n",
      "corrected /= np.mean(corrected)"
     ],
     "language": "python",
     "metadata": {},
     "outputs": [],
     "prompt_number": 40
    },
    {
     "cell_type": "code",
     "collapsed": false,
     "input": [
      "ff = open('P11111.7_combine_pro_echo2.sdf', 'rb')"
     ],
     "language": "python",
     "metadata": {},
     "outputs": [],
     "prompt_number": 41
    },
    {
     "cell_type": "code",
     "collapsed": false,
     "input": [
      "import array\n",
      "cdiff = array.array('f')\n",
      "cdiff.fromfile(ff, 1068)"
     ],
     "language": "python",
     "metadata": {},
     "outputs": [],
     "prompt_number": 42
    },
    {
     "cell_type": "code",
     "collapsed": false,
     "input": [
      "plot(cdiff[::2])\n",
      "figure()\n",
      "\n",
      "# This correction is based on the assumption that for NAA, the resonance frequency is approximately 330 MHz and the \n",
      "# value in ppm is 2.0. That means that to convert we should subtract 76 and divide by the normalizing factor (which is the\n",
      "# Larmor frequency of water\n",
      "plot(((f_nonw[50:500]-76)/128)[::-1], corrected[1][50:500])"
     ],
     "language": "python",
     "metadata": {},
     "outputs": [
      {
       "output_type": "pyout",
       "prompt_number": 43,
       "text": [
        "[<matplotlib.lines.Line2D at 0x11dcfe4d0>]"
       ]
      },
      {
       "output_type": "display_data",
       "png": "[encoded data removed]",
       "text": [
        "<matplotlib.figure.Figure at 0x11c6e71d0>"
       ]
      },
      {
       "output_type": "display_data",
       "png": "[encoded data removed]",
       "text": [
        "<matplotlib.figure.Figure at 0x11cb1ced0>"
       ]
      }
     ],
     "prompt_number": 43
    },
    {
     "cell_type": "code",
     "collapsed": false,
     "input": [
      "len(cdiff[::2])"
     ],
     "language": "python",
     "metadata": {},
     "outputs": [
      {
       "output_type": "pyout",
       "prompt_number": 11,
       "text": [
        "534"
       ]
      }
     ],
     "prompt_number": 11
    },
    {
     "cell_type": "code",
     "collapsed": false,
     "input": [],
     "language": "python",
     "metadata": {},
     "outputs": [],
     "prompt_number": 12
    },
    {
     "cell_type": "code",
     "collapsed": false,
     "input": [],
     "language": "python",
     "metadata": {},
     "outputs": [],
     "prompt_number": 12
    }
   ],
   "metadata": {}
  }
 ]
}