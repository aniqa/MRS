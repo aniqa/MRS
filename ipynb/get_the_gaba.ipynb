{
 "metadata": {
  "name": "get_the_gaba"
 },
 "nbformat": 3,
 "nbformat_minor": 0,
 "worksheets": [
  {
   "cells": [
    {
     "cell_type": "code",
     "collapsed": false,
     "input": [
      "# Import the necessary modules: \n",
      "# These are 3rd party:\n",
      "import os\n",
      "import scipy.stats as stats\n",
      "# These are ours:\n",
      "import MRS\n",
      "import MRS.analysis as ana\n",
      "import MRS.utils as ut\n",
      "import MRS.files as fi"
     ],
     "language": "python",
     "metadata": {},
     "outputs": [],
     "prompt_number": 1
    },
    {
     "cell_type": "code",
     "collapsed": false,
     "input": [
      "# Point to some data that we have in here: \n",
      "data_path = os.path.join(MRS.__path__[0] , 'data')\n",
      "data_files = ['mrs_P71680.7', 'mrs_P76288.7', 'pure_gaba_P64024.7', 'P58368.7']\n",
      "# Read from the p-file:\n",
      "data = fi.get_data(os.path.join(data_path, data_files[-1])).squeeze()"
     ],
     "language": "python",
     "metadata": {},
     "outputs": [],
     "prompt_number": 2
    },
    {
     "cell_type": "code",
     "collapsed": false,
     "input": [
      "# Combine the data from the different coils, weighting each one by RMS, and aligning their phases:\n",
      "w_data, w_supp_data = ana.coil_combine(data.squeeze())"
     ],
     "language": "python",
     "metadata": {},
     "outputs": [],
     "prompt_number": 3
    },
    {
     "cell_type": "code",
     "collapsed": false,
     "input": [
      "# Perform spectral analysis on the data:\n",
      "f_nonw, w_sig, nonw_sig = ana.get_spectra((w_data, w_supp_data))"
     ],
     "language": "python",
     "metadata": {},
     "outputs": [],
     "prompt_number": 4
    },
    {
     "cell_type": "code",
     "collapsed": false,
     "input": [
      "# Convert from Hz to ppm, assuming that the water peak is at 4.7 ppm and 0 Hz and 1 ppm = 127.8 Hz: \n",
      "f_ppm = ut.freq_to_ppm(f_nonw)\n",
      "\n",
      "# Find the array index for 0 ppm and for 4.5 ppm:\n",
      "idx0 = np.argmin(np.abs(f_ppm-0.0))\n",
      "idx4_3 = np.argmin(np.abs(f_ppm - 4.5))"
     ],
     "language": "python",
     "metadata": {},
     "outputs": [],
     "prompt_number": 5
    },
    {
     "cell_type": "code",
     "collapsed": false,
     "input": [
      "# We'll use this to slice into our objects:\n",
      "idx = slice(idx4_3, idx0)"
     ],
     "language": "python",
     "metadata": {},
     "outputs": [],
     "prompt_number": 6
    },
    {
     "cell_type": "code",
     "collapsed": false,
     "input": [
      "# Bootstrapping on the spectra (from each transient):\n",
      "boots_on = []\n",
      "boots_off = []\n",
      "for i in range(1000):\n",
      "    b_idx = np.random.randint(0, nonw_sig[1].shape[0], nonw_sig[1].shape[0])\n",
      "    boots_on.append(np.mean(nonw_sig[1][b_idx],0))\n",
      "    boots_off.append(np.mean(nonw_sig[1][b_idx],0))    \n",
      "\n",
      "boots_on = np.array(boots_on)\n",
      "boots_off = np.array(boots_off)"
     ],
     "language": "python",
     "metadata": {},
     "outputs": [],
     "prompt_number": 7
    },
    {
     "cell_type": "code",
     "collapsed": false,
     "input": [
      "# Plot:\n",
      "fig, ax = plt.subplots(1) \n",
      "ax.plot(f_ppm[idx], np.mean(nonw_sig[1][:,idx].T, -1))\n",
      "lb = stats.scoreatpercentile(boots_on, 2.5)\n",
      "ub = stats.scoreatpercentile(boots_on, 97.5)\n",
      "ax.fill_between(f_ppm[idx], lb[idx], ub[idx])\n",
      "ax.plot(f_ppm[idx], np.mean(nonw_sig[0][:,idx].T, -1))\n",
      "lb = stats.scoreatpercentile(boots_off, 2.5)\n",
      "ub = stats.scoreatpercentile(boots_off, 97.5)\n",
      "ax.fill_between(f_ppm[idx], lb[idx], ub[idx])\n",
      "ax.set_xlabel('ppm')\n",
      "ax.set_ylabel('Power')\n",
      "ax.invert_xaxis()"
     ],
     "language": "python",
     "metadata": {},
     "outputs": [
      {
       "output_type": "display_data",
       "png": "[encoded data removed]",
       "text": [
        "<matplotlib.figure.Figure at 0x107509ed0>"
       ]
      }
     ],
     "prompt_number": 8
    }
   ],
   "metadata": {}
  }
 ]
}