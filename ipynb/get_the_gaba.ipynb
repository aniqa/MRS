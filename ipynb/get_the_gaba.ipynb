{
 "metadata": {
  "name": "get_the_gaba"
 },
 "nbformat": 3,
 "nbformat_minor": 0,
 "worksheets": [
  {
   "cells": [
    {
     "cell_type": "code",
     "collapsed": false,
     "input": [
      "import nitime.timeseries as nts \n",
      "\n",
      "import nitime.analysis as nta"
     ],
     "language": "python",
     "metadata": {},
     "outputs": [],
     "prompt_number": 1
    },
    {
     "cell_type": "code",
     "collapsed": false,
     "input": [
      "data_files = ['mrs_P71680.7.npy', 'mrs_P76288.7.npy', 'pure_gaba_P64024.7.npy', 'P11111.7.npy']"
     ],
     "language": "python",
     "metadata": {},
     "outputs": [],
     "prompt_number": 16
    },
    {
     "cell_type": "code",
     "collapsed": false,
     "input": [
      "def coil_combine(data, w_idx=[1,2,3], sampling_rate=5000.0, NFFT=640):\n",
      "    \"\"\" \n",
      "    Combine data across coils based on the amplitude of the water peak, according to:\n",
      "\n",
      "    .. math::\n",
      "        \n",
      "        signal = sum_{i}(w(i)sig(i))\n",
      "\n",
      "        w(i) = s(i)/(sqrt(sum(s(i)))\n",
      "    \n",
      "    where s(i) is the amplitude of the water peak in each coil \n",
      "\n",
      "    Parameters\n",
      "    ----------\n",
      "    data : float array\n",
      "       The data as it comes from the scanner, with dimensions time x transients x off-/on-resonance x coils\n",
      "    \n",
      "    w_idx : tuple\n",
      "       The indices to the non-water-suppressed transients. Per default we take the 2nd-4th transients. We \n",
      "        dump the first one, because it seems to be quite different than the rest of them...\n",
      "    \n",
      "    sampling rate : float\n",
      "        The sampling rate in Hz\n",
      "    \"\"\"\n",
      "    # The transients are the second dimension in the data\n",
      "    idxes_w = np.zeros(data.shape[1], dtype=bool)\n",
      "    idxes_w[w_idx] = True\n",
      "    # Data with water unsuppressed (first four transients - we throw away the first one which is crap): \n",
      "    w_data = data[:,np.where(idxes_w),:,:]\n",
      "    # Data with water suppressed (the rest of the transients):\n",
      "    idxes_nonw = np.zeros(data.shape[1], dtype=bool)\n",
      "    idxes_nonw[np.where(~idxes_w)] = True\n",
      "    idxes_nonw[0] = False\n",
      "    w_supp_data = data[:,np.where(idxes_nonw),:,:]\n",
      "    \n",
      "    # Initialize time-series with this stuff\n",
      "    ts_w = nts.TimeSeries(w_data.T, sampling_rate=sampling_rate)\n",
      "    ts_w_supp = nts.TimeSeries(w_supp_data.T, sampling_rate=sampling_rate)\n",
      "        \n",
      "    # Push them through into spectral analysis. We'll use the Welch method\n",
      "    S_w = nta.SpectralAnalyzer(ts_w, method=dict(NFFT=NFFT))    \n",
      "    f_w, psd_w = S_w.spectrum_multi_taper\n",
      "\n",
      "    # Average across repeats:\n",
      "    max_psd = np.max(psd_w.squeeze(), -1)\n",
      "    max_psd = np.mean(max_psd, 2)\n",
      "    # Average across off-/on-resonance (they're very similar anyway):\n",
      "    max_psd = np.mean(max_psd, -1) \n",
      "    w = np.power(max_psd/np.sqrt(np.sum(max_psd**2)),2)\n",
      "    w = max_psd/np.sqrt(np.sum(max_psd))\n",
      "    # Shorthand:\n",
      "    na = np.newaxis\n",
      "    # reshape to the data dimensions, so that you can broadcast\n",
      "    w = w[:,na,na,na] #* 8 \n",
      "    # Making sure the coil dimension is now first:\n",
      "    weighted_w_data = np.sum(w * w_data.squeeze().T, 0)\n",
      "    weighted_w_supp_data = np.sum(w * w_supp_data.squeeze().T, 0)\n",
      "    return weighted_w_data, weighted_w_supp_data"
     ],
     "language": "python",
     "metadata": {},
     "outputs": [],
     "prompt_number": 17
    },
    {
     "cell_type": "code",
     "collapsed": false,
     "input": [
      "data = np.load(data_files[-1]).squeeze()\n",
      "w_data, w_supp_data = coil_combine(data)\n",
      "ts_w = nts.TimeSeries(w_data, sampling_rate=5000.)\n",
      "ts_nonw =nts.TimeSeries(w_supp_data, sampling_rate=5000.)\n",
      "S_w = nta.SpectralAnalyzer(ts_w, method=dict(NFFT=640))\n",
      "S_nonw = nta.SpectralAnalyzer(ts_nonw, method=dict(NFFT=640))"
     ],
     "language": "python",
     "metadata": {},
     "outputs": [],
     "prompt_number": 18
    },
    {
     "cell_type": "code",
     "collapsed": false,
     "input": [
      "f_w, c_w = S_w.spectrum_multi_taper\n",
      "f_nonw, c_nonw = S_nonw.spectrum_multi_taper"
     ],
     "language": "python",
     "metadata": {},
     "outputs": [],
     "prompt_number": 19
    },
    {
     "cell_type": "code",
     "collapsed": false,
     "input": [
      "w_sig = np.mean(c_w, 1) \n",
      "nonw_sig = np.mean(c_nonw,1)"
     ],
     "language": "python",
     "metadata": {},
     "outputs": [],
     "prompt_number": 20
    },
    {
     "cell_type": "code",
     "collapsed": false,
     "input": [
      "scale_fac1 = w_sig[0][0]/nonw_sig[0][0]\n",
      "scale_fac2 = w_sig[1][0]/nonw_sig[1][0]\n",
      "scale_fac = np.mean([scale_fac1, scale_fac2])"
     ],
     "language": "python",
     "metadata": {},
     "outputs": [],
     "prompt_number": 21
    },
    {
     "cell_type": "code",
     "collapsed": false,
     "input": [
      "approx = w_sig/scale_fac\n",
      "corrected = nonw_sig - approx\n",
      "#corrected = nonw_sig"
     ],
     "language": "python",
     "metadata": {},
     "outputs": [],
     "prompt_number": 22
    },
    {
     "cell_type": "code",
     "collapsed": false,
     "input": [
      "ff = open('P11111.7_combine_pro_echo2.sdf', 'rb')"
     ],
     "language": "python",
     "metadata": {},
     "outputs": [],
     "prompt_number": 50
    },
    {
     "cell_type": "code",
     "collapsed": false,
     "input": [
      "import array\n",
      "cdiff = array.array('f')\n",
      "cdiff.fromfile(ff, 1068)"
     ],
     "language": "python",
     "metadata": {},
     "outputs": [],
     "prompt_number": 51
    },
    {
     "cell_type": "code",
     "collapsed": false,
     "input": [
      "plot(cdiff[::2])\n",
      "figure()\n",
      "plot(((f_nonw[50:500]-76)/128)[::-1], corrected[1][50:500])"
     ],
     "language": "python",
     "metadata": {},
     "outputs": [
      {
       "output_type": "pyout",
       "prompt_number": 52,
       "text": [
        "[<matplotlib.lines.Line2D at 0x109f01a90>]"
       ]
      },
      {
       "output_type": "display_data",
       "png": "[encoded data removed]",
       "text": [
        "<matplotlib.figure.Figure at 0x109694250>"
       ]
      },
      {
       "output_type": "display_data",
       "png": "[encoded data removed]",
       "text": [
        "<matplotlib.figure.Figure at 0x109694290>"
       ]
      }
     ],
     "prompt_number": 52
    },
    {
     "cell_type": "code",
     "collapsed": false,
     "input": [
      "len(cdiff[::2])"
     ],
     "language": "python",
     "metadata": {},
     "outputs": [
      {
       "output_type": "pyout",
       "prompt_number": 46,
       "text": [
        "534"
       ]
      }
     ],
     "prompt_number": 46
    },
    {
     "cell_type": "code",
     "collapsed": false,
     "input": [],
     "language": "python",
     "metadata": {},
     "outputs": []
    }
   ],
   "metadata": {}
  }
 ]
}