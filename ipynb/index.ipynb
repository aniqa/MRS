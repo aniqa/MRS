{
 "metadata": {
  "kernelspec": {
   "codemirror_mode": {
    "name": "python",
    "version": 2
   },
   "display_name": "Python 2",
   "language": "python",
   "name": "python2"
  },
  "name": "",
  "signature": "sha256:55ab1f8f1b867a390fabdb2b9c64d7a8592b97e39485d30e57b41377c8497db9"
 },
 "nbformat": 3,
 "nbformat_minor": 0,
 "worksheets": [
  {
   "cells": [
    {
     "cell_type": "markdown",
     "metadata": {},
     "source": [
      "# Notebook examples for the Stanford MRS Analysis Library (SMAL)\n",
      "\n",
      "This series of notebooks discuss the principles of the MRS measurement, and in particular spectral editing for GABA quantification. The second notebook demonstrates the use of **SMAL** for analysis of *in vivo* MRS data. Finally, the third notebook demonstrates how this data is aligned with anatomical data, to find the region covered by the MRS measurement.\n",
      "\n",
      "1. [Principles of MRS](001-principles-of-MRS.ipynb)\n",
      "1. [Analysis example](002-Analysis-Examples.ipynb)\n",
      "1. [Aligning MRS analysis with anatomy](003-aligning-with-anatomy.ipynb)"
     ]
    },
    {
     "cell_type": "markdown",
     "metadata": {},
     "source": []
    }
   ],
   "metadata": {}
  }
 ]
}