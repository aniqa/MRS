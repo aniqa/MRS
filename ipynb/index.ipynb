{
 "metadata": {
  "kernelspec": {
   "codemirror_mode": {
    "name": "python",
    "version": 2
   },
   "display_name": "Python 2",
   "language": "python",
   "name": "python2"
  },
  "name": "",
  "signature": "sha256:133590825b09a8ecac9ca3e537d56f76b26b2385810b9065f0395f0fd54383ea"
 },
 "nbformat": 3,
 "nbformat_minor": 0,
 "worksheets": [
  {
   "cells": [
    {
     "cell_type": "markdown",
     "metadata": {},
     "source": [
      "1. [Principles of MRS](001-principles-of-MRS.ipynb)\n",
      "1. [Analysis example](002-Analysis-Examples.ipynb)\n",
      "1. [Aligning MRS analysis with anatomy](003-aligning-with-anatomy.ipynb)"
     ]
    },
    {
     "cell_type": "markdown",
     "metadata": {},
     "source": []
    }
   ],
   "metadata": {}
  }
 ]
}