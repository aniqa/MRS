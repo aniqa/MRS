{
 "metadata": {
  "name": "water_correction"
 },
 "nbformat": 3,
 "nbformat_minor": 0,
 "worksheets": [
  {
   "cells": [
    {
     "cell_type": "code",
     "collapsed": false,
     "input": [
      "import MRS.leastsqbound as lsq\n",
      "import MRS\n",
      "import MRS.utils as utils\n",
      "reload(utils)\n",
      "import MRS.optimize as mopt\n",
      "import MRS.analysis as ana\n",
      "reload(ana)\n",
      "import MRS.files as io\n",
      "import nitime as nt\n",
      "import os"
     ],
     "language": "python",
     "metadata": {},
     "outputs": [],
     "prompt_number": 150
    },
    {
     "cell_type": "code",
     "collapsed": false,
     "input": [
      "data_path = '/Users/arokem/projects/GABA_data/3761/'\n",
      "file_name = data_path + 'P22528.7'"
     ],
     "language": "python",
     "metadata": {},
     "outputs": [],
     "prompt_number": 151
    },
    {
     "cell_type": "code",
     "collapsed": false,
     "input": [
      "d = io.get_data(file_name)"
     ],
     "language": "python",
     "metadata": {},
     "outputs": [],
     "prompt_number": 152
    },
    {
     "cell_type": "code",
     "collapsed": false,
     "input": [
      "d.shape"
     ],
     "language": "python",
     "metadata": {},
     "outputs": [
      {
       "output_type": "pyout",
       "prompt_number": 153,
       "text": [
        "(68, 2, 8, 4096)"
       ]
      }
     ],
     "prompt_number": 153
    },
    {
     "cell_type": "code",
     "collapsed": false,
     "input": [
      "w_sig, w_supp_sig = ana.coil_combine(d)"
     ],
     "language": "python",
     "metadata": {},
     "outputs": [],
     "prompt_number": 154
    },
    {
     "cell_type": "code",
     "collapsed": false,
     "input": [
      "mean_nw = np.mean(w_supp_sig,0)\n",
      "water_only = np.mean(w_sig - mean_nw, 0)\n",
      "mean_water = np.mean(w_sig, 0)\n",
      "\n",
      "scale_factor = water_only/mean_nw\n",
      "\n",
      "sig = w_supp_sig - water_only/scale_factor[:,0,np.newaxis]\n"
     ],
     "language": "python",
     "metadata": {},
     "outputs": [],
     "prompt_number": 213
    },
    {
     "cell_type": "code",
     "collapsed": false,
     "input": [],
     "language": "python",
     "metadata": {},
     "outputs": [],
     "prompt_number": 213
    },
    {
     "cell_type": "code",
     "collapsed": false,
     "input": [
      "sig = ana.subtract_water(w_sig, w_supp_sig)"
     ],
     "language": "python",
     "metadata": {},
     "outputs": [],
     "prompt_number": 214
    },
    {
     "cell_type": "code",
     "collapsed": false,
     "input": [
      "f, s = ana.get_spectra(sig, line_broadening=2, zerofill=100, filt_method=None)"
     ],
     "language": "python",
     "metadata": {},
     "outputs": [],
     "prompt_number": 215
    },
    {
     "cell_type": "code",
     "collapsed": false,
     "input": [
      "f_ppm = utils.freq_to_ppm(f)\n",
      "idx = utils.ppm_idx(f_ppm, 1, 4.7)"
     ],
     "language": "python",
     "metadata": {},
     "outputs": [],
     "prompt_number": 216
    },
    {
     "cell_type": "code",
     "collapsed": false,
     "input": [
      "s.shape"
     ],
     "language": "python",
     "metadata": {},
     "outputs": [
      {
       "output_type": "pyout",
       "prompt_number": 217,
       "text": [
        "(64, 2, 2099)"
       ]
      }
     ],
     "prompt_number": 217
    },
    {
     "cell_type": "code",
     "collapsed": false,
     "input": [
      "plot(f_ppm[idx], s[0,0][idx])"
     ],
     "language": "python",
     "metadata": {},
     "outputs": [
      {
       "output_type": "pyout",
       "prompt_number": 218,
       "text": [
        "[<matplotlib.lines.Line2D at 0x10c737990>]"
       ]
      },
      {
       "output_type": "display_data",
       "png": "[encoded data removed]",
       "text": [
        "<matplotlib.figure.Figure at 0x10c712050>"
       ]
      }
     ],
     "prompt_number": 218
    },
    {
     "cell_type": "code",
     "collapsed": false,
     "input": [],
     "language": "python",
     "metadata": {},
     "outputs": []
    }
   ],
   "metadata": {}
  }
 ]
}