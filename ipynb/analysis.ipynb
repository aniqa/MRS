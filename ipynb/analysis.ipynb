{
 "metadata": {
  "name": "analysis"
 },
 "nbformat": 3,
 "nbformat_minor": 0,
 "worksheets": [
  {
   "cells": [
    {
     "cell_type": "code",
     "collapsed": false,
     "input": [
      "import os\n",
      "\n",
      "import numpy as np\n",
      "import matplotlib.pyplot as plt\n",
      "\n",
      "import files as io\n",
      "import nitime as nt\n",
      "import nitime.analysis as nta\n",
      "\n",
      "data_files = ['mrs_P71680.7', 'mrs_P76288.7', 'pure_gaba_P64024.7', 'P11111.7']\n",
      "data_dir = '/Users/arokem/projects/MRS/data/' \n",
      "\n",
      "sampling_rate = 5000\n"
     ],
     "language": "python",
     "metadata": {},
     "outputs": [],
     "prompt_number": 1
    },
    {
     "cell_type": "code",
     "collapsed": false,
     "input": [],
     "language": "python",
     "metadata": {},
     "outputs": [],
     "prompt_number": 1
    },
    {
     "cell_type": "code",
     "collapsed": false,
     "input": [
      "#fig, ax = plt.subplots(1)\n",
      "for file_name in data_files:\n",
      "    data = io.get_data(os.path.join(data_dir, file_name))\n",
      "    data = data.squeeze()\n",
      "    print data.shape\n",
      "    np.save(file_name, data)\n",
      "    # Average over repeats.\n",
      "    #data = np.mean(data, 1)\n",
      "    #ft = np.fft.fft(data)    \n",
      "    #data = np.mean(data, -1)\n",
      "    #data = np.mean(data, 1)\n",
      "    #ts = nt.TimeSeries(data=np.abs(data).T.squeeze(), sampling_rate=sampling_rate, time_unit='s')\n",
      "    #S = nta.SpectralAnalyzer(ts)\n",
      "    #f,c = S.spectrum_fourier\n",
      "    #ax.plot(f[:500], np.abs((c[0] - c[1]))[:500], label=file_name)\n",
      "\n",
      "    "
     ],
     "language": "python",
     "metadata": {},
     "outputs": [
      {
       "output_type": "stream",
       "stream": "stdout",
       "text": [
        "(4096, 68, 2, 8)\n",
        "(4096, 260, 2, 8)"
       ]
      },
      {
       "output_type": "stream",
       "stream": "stdout",
       "text": [
        "\n",
        "(4096, 68, 2, 8)"
       ]
      },
      {
       "output_type": "stream",
       "stream": "stdout",
       "text": [
        "\n",
        "(4096, 68, 2, 8)"
       ]
      },
      {
       "output_type": "stream",
       "stream": "stdout",
       "text": [
        "\n"
       ]
      }
     ],
     "prompt_number": 3
    },
    {
     "cell_type": "code",
     "collapsed": false,
     "input": [
      "ls\n"
     ],
     "language": "python",
     "metadata": {},
     "outputs": [
      {
       "output_type": "stream",
       "stream": "stdout",
       "text": [
        "README             \u001b[34mdata\u001b[m\u001b[m/              notes.txt          \u001b[34mtests\u001b[m\u001b[m/\r\n",
        "analysis.ipynb     files.py           notes01112013.txt\r\n",
        "analysis.py        files.pyc          \u001b[34mprofile_default\u001b[m\u001b[m/\r\n"
       ]
      }
     ],
     "prompt_number": 13
    },
    {
     "cell_type": "code",
     "collapsed": false,
     "input": [],
     "language": "python",
     "metadata": {},
     "outputs": [],
     "prompt_number": 13
    },
    {
     "cell_type": "code",
     "collapsed": false,
     "input": [
      "figure()\n",
      "plot(np.abs(data[:, 0, :]))\n",
      "figure()\n",
      "plot(np.real(data[:, 0, :]))\n",
      "figure()\n",
      "plot(np.imag(data[:, 0, :]))\n",
      "figure()\n",
      "plot(np.abs(ft[:, 0, :]))"
     ],
     "language": "python",
     "metadata": {},
     "outputs": [
      {
       "ename": "IndexError",
       "evalue": "too many indices",
       "output_type": "pyerr",
       "traceback": [
        "\u001b[0;31m---------------------------------------------------------------------------\u001b[0m\n\u001b[0;31mIndexError\u001b[0m                                Traceback (most recent call last)",
        "\u001b[0;32m<ipython-input-14-41a1cf5e5da4>\u001b[0m in \u001b[0;36m<module>\u001b[0;34m()\u001b[0m\n\u001b[1;32m      1\u001b[0m \u001b[0mfigure\u001b[0m\u001b[0;34m(\u001b[0m\u001b[0;34m)\u001b[0m\u001b[0;34m\u001b[0m\u001b[0m\n\u001b[0;32m----> 2\u001b[0;31m \u001b[0mplot\u001b[0m\u001b[0;34m(\u001b[0m\u001b[0mnp\u001b[0m\u001b[0;34m.\u001b[0m\u001b[0mabs\u001b[0m\u001b[0;34m(\u001b[0m\u001b[0mdata\u001b[0m\u001b[0;34m[\u001b[0m\u001b[0;34m:\u001b[0m\u001b[0;34m,\u001b[0m \u001b[0;36m0\u001b[0m\u001b[0;34m,\u001b[0m \u001b[0;34m:\u001b[0m\u001b[0;34m]\u001b[0m\u001b[0;34m)\u001b[0m\u001b[0;34m)\u001b[0m\u001b[0;34m\u001b[0m\u001b[0m\n\u001b[0m\u001b[1;32m      3\u001b[0m \u001b[0mfigure\u001b[0m\u001b[0;34m(\u001b[0m\u001b[0;34m)\u001b[0m\u001b[0;34m\u001b[0m\u001b[0m\n\u001b[1;32m      4\u001b[0m \u001b[0mplot\u001b[0m\u001b[0;34m(\u001b[0m\u001b[0mnp\u001b[0m\u001b[0;34m.\u001b[0m\u001b[0mreal\u001b[0m\u001b[0;34m(\u001b[0m\u001b[0mdata\u001b[0m\u001b[0;34m[\u001b[0m\u001b[0;34m:\u001b[0m\u001b[0;34m,\u001b[0m \u001b[0;36m0\u001b[0m\u001b[0;34m,\u001b[0m \u001b[0;34m:\u001b[0m\u001b[0;34m]\u001b[0m\u001b[0;34m)\u001b[0m\u001b[0;34m)\u001b[0m\u001b[0;34m\u001b[0m\u001b[0m\n\u001b[1;32m      5\u001b[0m \u001b[0mfigure\u001b[0m\u001b[0;34m(\u001b[0m\u001b[0;34m)\u001b[0m\u001b[0;34m\u001b[0m\u001b[0m\n",
        "\u001b[0;31mIndexError\u001b[0m: too many indices"
       ]
      },
      {
       "output_type": "display_data",
       "text": [
        "<matplotlib.figure.Figure at 0x105fae450>"
       ]
      }
     ],
     "prompt_number": 14
    },
    {
     "cell_type": "code",
     "collapsed": false,
     "input": [
      "np.abs(ft).shape"
     ],
     "language": "python",
     "metadata": {},
     "outputs": [
      {
       "ename": "NameError",
       "evalue": "name 'ft' is not defined",
       "output_type": "pyerr",
       "traceback": [
        "\u001b[0;31m---------------------------------------------------------------------------\u001b[0m\n\u001b[0;31mNameError\u001b[0m                                 Traceback (most recent call last)",
        "\u001b[0;32m<ipython-input-15-95a0b2d891e8>\u001b[0m in \u001b[0;36m<module>\u001b[0;34m()\u001b[0m\n\u001b[0;32m----> 1\u001b[0;31m \u001b[0mnp\u001b[0m\u001b[0;34m.\u001b[0m\u001b[0mabs\u001b[0m\u001b[0;34m(\u001b[0m\u001b[0mft\u001b[0m\u001b[0;34m)\u001b[0m\u001b[0;34m.\u001b[0m\u001b[0mshape\u001b[0m\u001b[0;34m\u001b[0m\u001b[0m\n\u001b[0m",
        "\u001b[0;31mNameError\u001b[0m: name 'ft' is not defined"
       ]
      }
     ],
     "prompt_number": 15
    },
    {
     "cell_type": "code",
     "collapsed": false,
     "input": [
      "cc = np.abs(ft[:, 2]) #np.mean(np.abs(ft), -1)"
     ],
     "language": "python",
     "metadata": {},
     "outputs": [
      {
       "ename": "IndexError",
       "evalue": "index 2 is out of bounds for axis 1 with size 2",
       "output_type": "pyerr",
       "traceback": [
        "\u001b[0;31m---------------------------------------------------------------------------\u001b[0m\n\u001b[0;31mIndexError\u001b[0m                                Traceback (most recent call last)",
        "\u001b[0;32m<ipython-input-6-a436f38ef0f9>\u001b[0m in \u001b[0;36m<module>\u001b[0;34m()\u001b[0m\n\u001b[0;32m----> 1\u001b[0;31m \u001b[0mcc\u001b[0m \u001b[0;34m=\u001b[0m \u001b[0mnp\u001b[0m\u001b[0;34m.\u001b[0m\u001b[0mabs\u001b[0m\u001b[0;34m(\u001b[0m\u001b[0mft\u001b[0m\u001b[0;34m[\u001b[0m\u001b[0;34m:\u001b[0m\u001b[0;34m,\u001b[0m \u001b[0;36m2\u001b[0m\u001b[0;34m]\u001b[0m\u001b[0;34m)\u001b[0m \u001b[0;31m#np.mean(np.abs(ft), -1)\u001b[0m\u001b[0;34m\u001b[0m\u001b[0m\n\u001b[0m",
        "\u001b[0;31mIndexError\u001b[0m: index 2 is out of bounds for axis 1 with size 2"
       ]
      }
     ],
     "prompt_number": 6
    },
    {
     "cell_type": "code",
     "collapsed": false,
     "input": [
      "plot(cc[:, 0] - cc[:, 1])"
     ],
     "language": "python",
     "metadata": {},
     "outputs": [
      {
       "ename": "NameError",
       "evalue": "name 'cc' is not defined",
       "output_type": "pyerr",
       "traceback": [
        "\u001b[0;31m---------------------------------------------------------------------------\u001b[0m\n\u001b[0;31mNameError\u001b[0m                                 Traceback (most recent call last)",
        "\u001b[0;32m<ipython-input-7-2d35021f3e43>\u001b[0m in \u001b[0;36m<module>\u001b[0;34m()\u001b[0m\n\u001b[0;32m----> 1\u001b[0;31m \u001b[0mplot\u001b[0m\u001b[0;34m(\u001b[0m\u001b[0mcc\u001b[0m\u001b[0;34m[\u001b[0m\u001b[0;34m:\u001b[0m\u001b[0;34m,\u001b[0m \u001b[0;36m0\u001b[0m\u001b[0;34m]\u001b[0m \u001b[0;34m-\u001b[0m \u001b[0mcc\u001b[0m\u001b[0;34m[\u001b[0m\u001b[0;34m:\u001b[0m\u001b[0;34m,\u001b[0m \u001b[0;36m1\u001b[0m\u001b[0;34m]\u001b[0m\u001b[0;34m)\u001b[0m\u001b[0;34m\u001b[0m\u001b[0m\n\u001b[0m",
        "\u001b[0;31mNameError\u001b[0m: name 'cc' is not defined"
       ]
      }
     ],
     "prompt_number": 7
    },
    {
     "cell_type": "code",
     "collapsed": false,
     "input": [
      "1/(0.82/4096.)"
     ],
     "language": "python",
     "metadata": {},
     "outputs": [
      {
       "output_type": "pyout",
       "prompt_number": 92,
       "text": [
        "4995.121951219512"
       ]
      }
     ],
     "prompt_number": 92
    },
    {
     "cell_type": "code",
     "collapsed": false,
     "input": [
      "np.arange(1,100,0.01)"
     ],
     "language": "python",
     "metadata": {},
     "outputs": [
      {
       "output_type": "pyout",
       "prompt_number": 22,
       "text": [
        "array([  1.  ,   1.01,   1.02, ...,  99.97,  99.98,  99.99])"
       ]
      }
     ],
     "prompt_number": 22
    },
    {
     "cell_type": "code",
     "collapsed": false,
     "input": [
      "data.shape\n",
      "plot(np.abs(data[:, :4, 0, 0, 0, 0]).squeeze(), 'r')\n",
      "plot(np.abs(data[:, 4:, 0, 0, 0, 0]).squeeze(), 'g')"
     ],
     "language": "python",
     "metadata": {},
     "outputs": [
      {
       "output_type": "pyout",
       "prompt_number": 53,
       "text": [
        "[<matplotlib.lines.Line2D at 0x111c1dd10>,\n",
        " <matplotlib.lines.Line2D at 0x110f0ca10>,\n",
        " <matplotlib.lines.Line2D at 0x110f0ca90>,\n",
        " <matplotlib.lines.Line2D at 0x110f0c490>,\n",
        " <matplotlib.lines.Line2D at 0x110f0c090>,\n",
        " <matplotlib.lines.Line2D at 0x105d5d7d0>,\n",
        " <matplotlib.lines.Line2D at 0x110c36950>,\n",
        " <matplotlib.lines.Line2D at 0x110f15250>,\n",
        " <matplotlib.lines.Line2D at 0x110f15810>,\n",
        " <matplotlib.lines.Line2D at 0x110f159d0>,\n",
        " <matplotlib.lines.Line2D at 0x110f15890>,\n",
        " <matplotlib.lines.Line2D at 0x110f152d0>,\n",
        " <matplotlib.lines.Line2D at 0x110f15b10>,\n",
        " <matplotlib.lines.Line2D at 0x110f15c10>,\n",
        " <matplotlib.lines.Line2D at 0x110f15f50>,\n",
        " <matplotlib.lines.Line2D at 0x1108bfa10>,\n",
        " <matplotlib.lines.Line2D at 0x110fbf890>,\n",
        " <matplotlib.lines.Line2D at 0x110fbf490>,\n",
        " <matplotlib.lines.Line2D at 0x110fbf290>,\n",
        " <matplotlib.lines.Line2D at 0x1108d5e50>,\n",
        " <matplotlib.lines.Line2D at 0x1108d5790>,\n",
        " <matplotlib.lines.Line2D at 0x111c38a90>,\n",
        " <matplotlib.lines.Line2D at 0x111c38350>,\n",
        " <matplotlib.lines.Line2D at 0x111c3f410>,\n",
        " <matplotlib.lines.Line2D at 0x111c3fdd0>,\n",
        " <matplotlib.lines.Line2D at 0x111c3f490>,\n",
        " <matplotlib.lines.Line2D at 0x111c3fe90>,\n",
        " <matplotlib.lines.Line2D at 0x111c3fb50>,\n",
        " <matplotlib.lines.Line2D at 0x111c1c150>,\n",
        " <matplotlib.lines.Line2D at 0x111c1c250>,\n",
        " <matplotlib.lines.Line2D at 0x111c1c9d0>,\n",
        " <matplotlib.lines.Line2D at 0x111c1cb50>,\n",
        " <matplotlib.lines.Line2D at 0x111c1ccd0>,\n",
        " <matplotlib.lines.Line2D at 0x111c1ce50>,\n",
        " <matplotlib.lines.Line2D at 0x111c1cfd0>,\n",
        " <matplotlib.lines.Line2D at 0x105d69d50>,\n",
        " <matplotlib.lines.Line2D at 0x10ad31210>,\n",
        " <matplotlib.lines.Line2D at 0x1108d42d0>,\n",
        " <matplotlib.lines.Line2D at 0x1108d4250>,\n",
        " <matplotlib.lines.Line2D at 0x110890750>,\n",
        " <matplotlib.lines.Line2D at 0x110f27150>,\n",
        " <matplotlib.lines.Line2D at 0x110f272d0>,\n",
        " <matplotlib.lines.Line2D at 0x110f27450>,\n",
        " <matplotlib.lines.Line2D at 0x110f275d0>,\n",
        " <matplotlib.lines.Line2D at 0x110f27750>,\n",
        " <matplotlib.lines.Line2D at 0x110f278d0>,\n",
        " <matplotlib.lines.Line2D at 0x110f27a50>,\n",
        " <matplotlib.lines.Line2D at 0x110f27bd0>,\n",
        " <matplotlib.lines.Line2D at 0x110f27d50>,\n",
        " <matplotlib.lines.Line2D at 0x110f27ed0>,\n",
        " <matplotlib.lines.Line2D at 0x110f21090>,\n",
        " <matplotlib.lines.Line2D at 0x110f21210>,\n",
        " <matplotlib.lines.Line2D at 0x110f21390>,\n",
        " <matplotlib.lines.Line2D at 0x110f21510>,\n",
        " <matplotlib.lines.Line2D at 0x110f21690>,\n",
        " <matplotlib.lines.Line2D at 0x110f21810>,\n",
        " <matplotlib.lines.Line2D at 0x110f21990>,\n",
        " <matplotlib.lines.Line2D at 0x110f21b10>,\n",
        " <matplotlib.lines.Line2D at 0x110f21c90>,\n",
        " <matplotlib.lines.Line2D at 0x110f21e10>,\n",
        " <matplotlib.lines.Line2D at 0x110f21f90>,\n",
        " <matplotlib.lines.Line2D at 0x110f23150>,\n",
        " <matplotlib.lines.Line2D at 0x110f232d0>,\n",
        " <matplotlib.lines.Line2D at 0x110f23450>]"
       ]
      },
      {
       "output_type": "display_data",
       "png": "[encoded data removed]",
       "text": [
        "<matplotlib.figure.Figure at 0x111c1dcd0>"
       ]
      }
     ],
     "prompt_number": 53
    },
    {
     "cell_type": "code",
     "collapsed": false,
     "input": [
      "c1 = data[:,:,:,0,0,0]"
     ],
     "language": "python",
     "metadata": {},
     "outputs": [],
     "prompt_number": 36
    },
    {
     "cell_type": "code",
     "collapsed": false,
     "input": [
      "c1.shape"
     ],
     "language": "python",
     "metadata": {},
     "outputs": [
      {
       "output_type": "pyout",
       "prompt_number": 40,
       "text": [
        "(4096, 68, 2)"
       ]
      }
     ],
     "prompt_number": 40
    },
    {
     "cell_type": "code",
     "collapsed": false,
     "input": [
      "ft_c1 = np.fft.fft(np.abs(c1), axis=0)"
     ],
     "language": "python",
     "metadata": {},
     "outputs": [],
     "prompt_number": 59
    },
    {
     "cell_type": "code",
     "collapsed": false,
     "input": [
      "ft_c1.shape"
     ],
     "language": "python",
     "metadata": {},
     "outputs": [
      {
       "output_type": "pyout",
       "prompt_number": 60,
       "text": [
        "(4096, 68, 2)"
       ]
      }
     ],
     "prompt_number": 60
    },
    {
     "cell_type": "code",
     "collapsed": false,
     "input": [
      "plot(np.fft.fftshift(ft_c1[:,:4,0]), 'g')\n",
      "plot(np.fft.fftshift(ft_c1[:,4:,0]), 'r')"
     ],
     "language": "python",
     "metadata": {},
     "outputs": [
      {
       "output_type": "pyout",
       "prompt_number": 66,
       "text": [
        "[<matplotlib.lines.Line2D at 0x111bd3b90>,\n",
        " <matplotlib.lines.Line2D at 0x1165123d0>,\n",
        " <matplotlib.lines.Line2D at 0x116512550>,\n",
        " <matplotlib.lines.Line2D at 0x1165126d0>,\n",
        " <matplotlib.lines.Line2D at 0x116512850>,\n",
        " <matplotlib.lines.Line2D at 0x1165129d0>,\n",
        " <matplotlib.lines.Line2D at 0x116512b50>,\n",
        " <matplotlib.lines.Line2D at 0x116512cd0>,\n",
        " <matplotlib.lines.Line2D at 0x116512e50>,\n",
        " <matplotlib.lines.Line2D at 0x116512fd0>,\n",
        " <matplotlib.lines.Line2D at 0x116516190>,\n",
        " <matplotlib.lines.Line2D at 0x116516310>,\n",
        " <matplotlib.lines.Line2D at 0x116516490>,\n",
        " <matplotlib.lines.Line2D at 0x116516610>,\n",
        " <matplotlib.lines.Line2D at 0x116516790>,\n",
        " <matplotlib.lines.Line2D at 0x116516910>,\n",
        " <matplotlib.lines.Line2D at 0x116516a90>,\n",
        " <matplotlib.lines.Line2D at 0x116516c10>,\n",
        " <matplotlib.lines.Line2D at 0x116516d90>,\n",
        " <matplotlib.lines.Line2D at 0x116516f10>,\n",
        " <matplotlib.lines.Line2D at 0x1165190d0>,\n",
        " <matplotlib.lines.Line2D at 0x116519250>,\n",
        " <matplotlib.lines.Line2D at 0x1165193d0>,\n",
        " <matplotlib.lines.Line2D at 0x116519550>,\n",
        " <matplotlib.lines.Line2D at 0x1165196d0>,\n",
        " <matplotlib.lines.Line2D at 0x116519850>,\n",
        " <matplotlib.lines.Line2D at 0x1165199d0>,\n",
        " <matplotlib.lines.Line2D at 0x116519b50>,\n",
        " <matplotlib.lines.Line2D at 0x116519cd0>,\n",
        " <matplotlib.lines.Line2D at 0x116519e50>,\n",
        " <matplotlib.lines.Line2D at 0x116519fd0>,\n",
        " <matplotlib.lines.Line2D at 0x11651b190>,\n",
        " <matplotlib.lines.Line2D at 0x11651b310>,\n",
        " <matplotlib.lines.Line2D at 0x11651b490>,\n",
        " <matplotlib.lines.Line2D at 0x11651b610>,\n",
        " <matplotlib.lines.Line2D at 0x11651b790>,\n",
        " <matplotlib.lines.Line2D at 0x11651b910>,\n",
        " <matplotlib.lines.Line2D at 0x11651ba90>,\n",
        " <matplotlib.lines.Line2D at 0x11651bc10>,\n",
        " <matplotlib.lines.Line2D at 0x11651bd90>,\n",
        " <matplotlib.lines.Line2D at 0x11651bf10>,\n",
        " <matplotlib.lines.Line2D at 0x11651f0d0>,\n",
        " <matplotlib.lines.Line2D at 0x11651f250>,\n",
        " <matplotlib.lines.Line2D at 0x11651f3d0>,\n",
        " <matplotlib.lines.Line2D at 0x11651f550>,\n",
        " <matplotlib.lines.Line2D at 0x11651f6d0>,\n",
        " <matplotlib.lines.Line2D at 0x11651f850>,\n",
        " <matplotlib.lines.Line2D at 0x11651f9d0>,\n",
        " <matplotlib.lines.Line2D at 0x11651fb50>,\n",
        " <matplotlib.lines.Line2D at 0x11651fcd0>,\n",
        " <matplotlib.lines.Line2D at 0x11651fe50>,\n",
        " <matplotlib.lines.Line2D at 0x11651ffd0>,\n",
        " <matplotlib.lines.Line2D at 0x116522190>,\n",
        " <matplotlib.lines.Line2D at 0x116522310>,\n",
        " <matplotlib.lines.Line2D at 0x116522490>,\n",
        " <matplotlib.lines.Line2D at 0x116522610>,\n",
        " <matplotlib.lines.Line2D at 0x116522790>,\n",
        " <matplotlib.lines.Line2D at 0x116522910>,\n",
        " <matplotlib.lines.Line2D at 0x116522a90>,\n",
        " <matplotlib.lines.Line2D at 0x116522c10>,\n",
        " <matplotlib.lines.Line2D at 0x116522d90>,\n",
        " <matplotlib.lines.Line2D at 0x116522f10>,\n",
        " <matplotlib.lines.Line2D at 0x1165240d0>,\n",
        " <matplotlib.lines.Line2D at 0x116524250>]"
       ]
      },
      {
       "output_type": "display_data",
       "png": "[encoded data removed]",
       "text": [
        "<matplotlib.figure.Figure at 0x111bd3350>"
       ]
      }
     ],
     "prompt_number": 66
    },
    {
     "cell_type": "code",
     "collapsed": false,
     "input": [
      "a = np.fft.fftshift(np.abs(ft_c1[:,4:,0] - np.abs(ft_c1[:,4:,1])))"
     ],
     "language": "python",
     "metadata": {},
     "outputs": [],
     "prompt_number": 74
    },
    {
     "cell_type": "code",
     "collapsed": false,
     "input": [
      "a.shape"
     ],
     "language": "python",
     "metadata": {},
     "outputs": [
      {
       "output_type": "pyout",
       "prompt_number": 75,
       "text": [
        "(4096, 64)"
       ]
      }
     ],
     "prompt_number": 75
    },
    {
     "cell_type": "code",
     "collapsed": false,
     "input": [
      "plot(np.mean(a[]))"
     ],
     "language": "python",
     "metadata": {},
     "outputs": [
      {
       "output_type": "pyout",
       "prompt_number": 76,
       "text": [
        "[<matplotlib.lines.Line2D at 0x11a4dbe10>]"
       ]
      },
      {
       "output_type": "display_data",
       "png": "[encoded data removed]",
       "text": [
        "<matplotlib.figure.Figure at 0x11875d250>"
       ]
      }
     ],
     "prompt_number": 76
    },
    {
     "cell_type": "code",
     "collapsed": false,
     "input": [
      "plot(np.mean(np.abs(ft_c1[:,4:,0]-ft_c1[:,4:,1])[:2048],-1))"
     ],
     "language": "python",
     "metadata": {},
     "outputs": [
      {
       "output_type": "pyout",
       "prompt_number": 83,
       "text": [
        "[<matplotlib.lines.Line2D at 0x11bfc58d0>]"
       ]
      },
      {
       "output_type": "display_data",
       "png": "[encoded data removed]",
       "text": [
        "<matplotlib.figure.Figure at 0x11bac8190>"
       ]
      }
     ],
     "prompt_number": 83
    },
    {
     "cell_type": "code",
     "collapsed": false,
     "input": [],
     "language": "python",
     "metadata": {},
     "outputs": []
    }
   ],
   "metadata": {}
  }
 ]
}